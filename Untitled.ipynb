{
 "cells": [
  {
   "cell_type": "code",
   "execution_count": 1,
   "id": "2c6efcdf",
   "metadata": {},
   "outputs": [
    {
     "name": "stdout",
     "output_type": "stream",
     "text": [
      "2.142857142857143\n"
     ]
    }
   ],
   "source": [
    "print(15/7)"
   ]
  },
  {
   "cell_type": "code",
   "execution_count": 2,
   "id": "dc586d7e",
   "metadata": {},
   "outputs": [
    {
     "name": "stdout",
     "output_type": "stream",
     "text": [
      "3.0\n",
      "3\n",
      "0\n",
      "3375\n",
      "7.5\n"
     ]
    }
   ],
   "source": [
    "print(15/5)\n",
    "print(15//5)\n",
    "print(15%3)\n",
    "print(15**3)\n",
    "print(3*2.5)\n"
   ]
  },
  {
   "cell_type": "code",
   "execution_count": null,
   "id": "3ceb34bb",
   "metadata": {},
   "outputs": [],
   "source": []
  }
 ],
 "metadata": {
  "kernelspec": {
   "display_name": "Python 3 (ipykernel)",
   "language": "python",
   "name": "python3"
  },
  "language_info": {
   "codemirror_mode": {
    "name": "ipython",
    "version": 3
   },
   "file_extension": ".py",
   "mimetype": "text/x-python",
   "name": "python",
   "nbconvert_exporter": "python",
   "pygments_lexer": "ipython3",
   "version": "3.11.4"
  }
 },
 "nbformat": 4,
 "nbformat_minor": 5
}
